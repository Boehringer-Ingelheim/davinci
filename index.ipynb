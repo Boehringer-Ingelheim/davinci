{
  "cells": [
    {
      "cell_type": "raw",
      "metadata": {},
      "source": [
        "---\n",
        "title: \"DaVinCI\"\n",
        "#execute:\n",
        " # echo: false\n",
        "---"
      ],
      "id": "4775a528"
    },
    {
      "cell_type": "markdown",
      "metadata": {},
      "source": [
        "```{css}\n",
        "h3 {\n",
        "  text-align: center;\n",
        "}\n",
        "```\n",
        "\n",
        "\n",
        "## Dynamic Visualization for Clinical Insights (DaVinCI)\n",
        "\n",
        "### What is DaVinCI?\n",
        "\n",
        "DaVinCI provides tools to review, aggregate and visualize data to develop and deliver safe and effective treatments for patients. Instead of creating entire R/Shiny applications, DaVinCI provides individual modules. Modules are functional building blocks that can be linked together into customized apps. This customization enables App Creators to build their own app according to trial-specific needs without deep R knowledge. The concept of developing loosely coupled, functional units and composing them into a larger application is subsequently referred to as modular approach.\n",
        "\n",
        "### The modular approach\n",
        "\n",
        "To create an app you need to identify which modules to include in the first place. Think of each DaVinCI module as individual building stone that you can put together to build a vehicle for a certain purpose. If you want to go fast, build a motorcycle, if you want to go far build a common car. The vehicle refers to the DaVinCI app that you create according to your use case.\n",
        "\n",
        "![](quarto/images/building_blocks.png){fig-align=\"center\"}\n",
        "\n",
        "\n",
        "For that purpose, modules are provided as R packages. One package contains one or multiple modules. Choose the modules freely according to the purpose of your visualization. For data cleaning purposes you might not need a heatmap, but you may want to incorporate it for biomarker analyses. Safety review might benefit from an eDISH plot, and all of them probably want to display listings as well. These are only suggestions, modules can be combined freely. Some of them are even able to communicate with each other. \n",
        "For more details about how to actually create an app, refer to [Getting Started](quarto/getting_started.qmd). An overview of all modules can be found [here](quarto/modules.qmd). \n",
        "\n",
        "\n",
        "### The DaVinCI framework consists of the following packages:  \n",
        "\n",
        "\n",
        "| package | description |\n",
        "|---------|-------------|\n",
        "|[dv.loader](https://boehringer-ingelheim.github.io/dv.loader/){target=\"_blank\"}|Data Loading package for DaVinCI|\n",
        "|[dv.filter](https://boehringer-ingelheim.github.io/dv.filter/){target=\"_blank\"}|Dynamic Data Filtering package|\n",
        "|[dv.manager](https://boehringer-ingelheim.github.io/dv.manager/){target=\"_blank\"}|{dv.manager} package is designed to make it quick and easy to create and deploy Shiny applications using the modules from DaVinCI.|\n",
        "|[dv.listings](https://boehringer-ingelheim.github.io/dv.listings/){target=\"_blank\"}|Listings module displays arbitrary datasets as listings.|\n"
      ],
      "id": "602074db"
    }
  ],
  "metadata": {
    "kernelspec": {
      "name": "python3",
      "language": "python",
      "display_name": "Python 3 (ipykernel)"
    }
  },
  "nbformat": 4,
  "nbformat_minor": 5
}